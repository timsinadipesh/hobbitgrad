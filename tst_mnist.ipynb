{
 "cells": [
  {
   "cell_type": "code",
   "execution_count": 21,
   "id": "14210353",
   "metadata": {},
   "outputs": [
    {
     "name": "stdout",
     "output_type": "stream",
     "text": [
      "Requirement already satisfied: pandas==2.3.2 in ./hgenv/lib/python3.12/site-packages (2.3.2)\n",
      "Requirement already satisfied: numpy>=1.26.0 in ./hgenv/lib/python3.12/site-packages (from pandas==2.3.2) (2.3.2)\n",
      "Requirement already satisfied: python-dateutil>=2.8.2 in ./hgenv/lib/python3.12/site-packages (from pandas==2.3.2) (2.9.0.post0)\n",
      "Requirement already satisfied: pytz>=2020.1 in ./hgenv/lib/python3.12/site-packages (from pandas==2.3.2) (2025.2)\n",
      "Requirement already satisfied: tzdata>=2022.7 in ./hgenv/lib/python3.12/site-packages (from pandas==2.3.2) (2025.2)\n",
      "Requirement already satisfied: six>=1.5 in ./hgenv/lib/python3.12/site-packages (from python-dateutil>=2.8.2->pandas==2.3.2) (1.17.0)\n",
      "Requirement already satisfied: numpy==2.3.2 in ./hgenv/lib/python3.12/site-packages (2.3.2)\n"
     ]
    }
   ],
   "source": [
    "!pip install pandas==2.3.2\n",
    "!pip install numpy==2.3.2"
   ]
  },
  {
   "cell_type": "code",
   "execution_count": 4,
   "id": "0c8135c7",
   "metadata": {},
   "outputs": [],
   "source": [
    "import pandas as pd\n",
    "import os\n",
    "from pathlib import Path\n",
    "import sys"
   ]
  },
  {
   "cell_type": "code",
   "execution_count": 27,
   "id": "79b306cd",
   "metadata": {},
   "outputs": [],
   "source": [
    "from hobbitgrad.modules import *"
   ]
  },
  {
   "cell_type": "code",
   "execution_count": 38,
   "id": "a9ab0dcd",
   "metadata": {},
   "outputs": [],
   "source": [
    "np.random.seed(42)"
   ]
  },
  {
   "cell_type": "code",
   "execution_count": 8,
   "id": "3618f566",
   "metadata": {},
   "outputs": [],
   "source": [
    "base_dir = Path.cwd()\n",
    "datapath = base_dir.parent / \"hobbitgrad\" / \"datasets\" / \"mnist\""
   ]
  },
  {
   "cell_type": "code",
   "execution_count": 9,
   "id": "d5f62711",
   "metadata": {},
   "outputs": [],
   "source": [
    "train_df = pd.read_csv(datapath / \"mnist_train.csv\")"
   ]
  },
  {
   "cell_type": "code",
   "execution_count": 10,
   "id": "bf4eff14",
   "metadata": {},
   "outputs": [],
   "source": [
    "test_df = pd.read_csv(datapath / \"mnist_test.csv\")"
   ]
  },
  {
   "cell_type": "code",
   "execution_count": 11,
   "id": "1e480b5b",
   "metadata": {},
   "outputs": [
    {
     "data": {
      "text/plain": [
       "(60000, 10000)"
      ]
     },
     "execution_count": 11,
     "metadata": {},
     "output_type": "execute_result"
    }
   ],
   "source": [
    "len(train_df), len(test_df)"
   ]
  },
  {
   "cell_type": "code",
   "execution_count": 12,
   "id": "d2258e91",
   "metadata": {},
   "outputs": [
    {
     "data": {
      "text/plain": [
       "label    5\n",
       "1x1      0\n",
       "1x2      0\n",
       "1x3      0\n",
       "1x4      0\n",
       "        ..\n",
       "28x24    0\n",
       "28x25    0\n",
       "28x26    0\n",
       "28x27    0\n",
       "28x28    0\n",
       "Name: 0, Length: 785, dtype: int64"
      ]
     },
     "execution_count": 12,
     "metadata": {},
     "output_type": "execute_result"
    }
   ],
   "source": [
    "train_df.iloc[0]"
   ]
  },
  {
   "cell_type": "code",
   "execution_count": 26,
   "id": "743ce7d8",
   "metadata": {},
   "outputs": [],
   "source": [
    "def df2np(df):\n",
    "    arr = df.to_numpy()\n",
    "    X = arr[:,1:]\n",
    "    Y = arr[:, :1]\n",
    "    return X, Y"
   ]
  },
  {
   "cell_type": "code",
   "execution_count": 14,
   "id": "9b7411e8",
   "metadata": {},
   "outputs": [],
   "source": [
    "testX, testY = df2np(test_df)"
   ]
  },
  {
   "cell_type": "code",
   "execution_count": 15,
   "id": "2fb63d3c",
   "metadata": {},
   "outputs": [],
   "source": [
    "trainX, trainY = df2np(train_df)"
   ]
  },
  {
   "cell_type": "code",
   "execution_count": 16,
   "id": "fde0ad18",
   "metadata": {},
   "outputs": [
    {
     "data": {
      "text/plain": [
       "(10000, 10000)"
      ]
     },
     "execution_count": 16,
     "metadata": {},
     "output_type": "execute_result"
    }
   ],
   "source": [
    "len(testX), len(testY)"
   ]
  },
  {
   "cell_type": "code",
   "execution_count": 17,
   "id": "ba3c316a",
   "metadata": {},
   "outputs": [
    {
     "data": {
      "text/plain": [
       "(60000, 60000)"
      ]
     },
     "execution_count": 17,
     "metadata": {},
     "output_type": "execute_result"
    }
   ],
   "source": [
    "len(trainX), len(trainY)"
   ]
  },
  {
   "cell_type": "code",
   "execution_count": 18,
   "id": "a53b5e64",
   "metadata": {},
   "outputs": [
    {
     "data": {
      "text/plain": [
       "(784, 784)"
      ]
     },
     "execution_count": 18,
     "metadata": {},
     "output_type": "execute_result"
    }
   ],
   "source": [
    "len(trainX[0]), len(testX[0])"
   ]
  },
  {
   "cell_type": "code",
   "execution_count": 19,
   "id": "c00c43b5",
   "metadata": {},
   "outputs": [
    {
     "data": {
      "text/plain": [
       "((60000, 784), (60000, 1), (10000, 784), (10000, 1))"
      ]
     },
     "execution_count": 19,
     "metadata": {},
     "output_type": "execute_result"
    }
   ],
   "source": [
    "trainX.shape, trainY.shape, testX.shape, testY.shape"
   ]
  },
  {
   "cell_type": "code",
   "execution_count": null,
   "id": "e1aae165",
   "metadata": {},
   "outputs": [],
   "source": [
    "model = Model([\n",
    "    Linear(784, 50), RELU(),\n",
    "    Linear(50, 100), RELU(),\n",
    "    Linear(100, 150), RELU(),\n",
    "    Linear(150, 100), RELU(),\n",
    "    Linear(100, 50), RELU(),\n",
    "    Linear(50, 1)\n",
    "])"
   ]
  },
  {
   "cell_type": "code",
   "execution_count": 35,
   "id": "6486ecfe",
   "metadata": {},
   "outputs": [],
   "source": [
    "loss_fn = MSELoss()\n",
    "optimizer = SGD(model)\n",
    "epochs = 45"
   ]
  },
  {
   "cell_type": "code",
   "execution_count": 36,
   "id": "521b6f29",
   "metadata": {},
   "outputs": [
    {
     "name": "stdout",
     "output_type": "stream",
     "text": [
      "Epoch 0, Loss: 9.007449631669584e+18\n",
      "Epoch 1, Loss: 8.650754596661412e+18\n",
      "Epoch 2, Loss: 8.308184036286143e+18\n",
      "Epoch 3, Loss: 7.979179775400177e+18\n",
      "Epoch 4, Loss: 7.663204455215625e+18\n",
      "Epoch 5, Loss: 7.359742225990884e+18\n",
      "Epoch 6, Loss: 7.068296570436991e+18\n",
      "Epoch 7, Loss: 6.788392320190241e+18\n",
      "Epoch 8, Loss: 6.519572141643139e+18\n",
      "Epoch 9, Loss: 6.261397213396523e+18\n",
      "Epoch 10, Loss: 6.013445256411313e+18\n",
      "Epoch 11, Loss: 5.775312430947248e+18\n",
      "Epoch 12, Loss: 5.546610131450736e+18\n",
      "Epoch 13, Loss: 5.326964465193047e+18\n",
      "Epoch 14, Loss: 5.116016904388973e+18\n",
      "Epoch 15, Loss: 4.913422544577152e+18\n",
      "Epoch 16, Loss: 4.718850745267713e+18\n",
      "Epoch 17, Loss: 4.531984016341198e+18\n",
      "Epoch 18, Loss: 4.352517524437645e+18\n",
      "Epoch 19, Loss: 4.180157569132609e+18\n",
      "Epoch 20, Loss: 4.01462327845842e+18\n",
      "Epoch 21, Loss: 3.855644046178393e+18\n",
      "Epoch 22, Loss: 3.7029606802269435e+18\n",
      "Epoch 23, Loss: 3.5563234859029647e+18\n",
      "Epoch 24, Loss: 3.4154929058690816e+18\n",
      "Epoch 25, Loss: 3.280239591126499e+18\n",
      "Epoch 26, Loss: 3.150342158159656e+18\n",
      "Epoch 27, Loss: 3.0255887425940285e+18\n",
      "Epoch 28, Loss: 2.905775289047423e+18\n",
      "Epoch 29, Loss: 2.790706579345595e+18\n",
      "Epoch 30, Loss: 2.680194599095176e+18\n",
      "Epoch 31, Loss: 2.5740587125386486e+18\n",
      "Epoch 32, Loss: 2.4721257945980646e+18\n",
      "Epoch 33, Loss: 2.3742295345147955e+18\n",
      "Epoch 34, Loss: 2.2802101843819937e+18\n",
      "Epoch 35, Loss: 2.1899139371117015e+18\n",
      "Epoch 36, Loss: 2.1031934716892593e+18\n",
      "Epoch 37, Loss: 2.0199069595265298e+18\n",
      "Epoch 38, Loss: 1.9399185942591222e+18\n",
      "Epoch 39, Loss: 1.8630976434556047e+18\n",
      "Epoch 40, Loss: 1.7893189633154957e+18\n",
      "Epoch 41, Loss: 1.718462093685291e+18\n",
      "Epoch 42, Loss: 1.650411100245481e+18\n",
      "Epoch 43, Loss: 1.5850547435477379e+18\n",
      "Epoch 44, Loss: 1.5222866138256963e+18\n"
     ]
    }
   ],
   "source": [
    "for epoch in range(epochs):\n",
    "    optimizer.zero_grad()\n",
    "\n",
    "    y_pred = model.forward(trainX)\n",
    "    loss = loss_fn.forward(trainY, y_pred)\n",
    "    \n",
    "    print(f\"Epoch {epoch}, Loss: {loss}\")\n",
    "\n",
    "    # backward\n",
    "    d_out = loss_fn.backward()\n",
    "    model.backward(d_out)\n",
    "\n",
    "    # update params\n",
    "    optimizer.step()"
   ]
  },
  {
   "cell_type": "code",
   "execution_count": 37,
   "id": "e0d96c1b",
   "metadata": {},
   "outputs": [
    {
     "name": "stdout",
     "output_type": "stream",
     "text": [
      "Final Loss: 1.462003996009739e+18\n"
     ]
    }
   ],
   "source": [
    "y_test_pred = model.forward(testX)\n",
    "print(\"Final Loss:\", loss_fn.forward(testY, y_test_pred))"
   ]
  },
  {
   "cell_type": "code",
   "execution_count": null,
   "id": "13c51980",
   "metadata": {},
   "outputs": [],
   "source": []
  }
 ],
 "metadata": {
  "kernelspec": {
   "display_name": "hgenv",
   "language": "python",
   "name": "python3"
  },
  "language_info": {
   "codemirror_mode": {
    "name": "ipython",
    "version": 3
   },
   "file_extension": ".py",
   "mimetype": "text/x-python",
   "name": "python",
   "nbconvert_exporter": "python",
   "pygments_lexer": "ipython3",
   "version": "3.12.3"
  }
 },
 "nbformat": 4,
 "nbformat_minor": 5
}
